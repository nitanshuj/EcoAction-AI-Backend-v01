{
 "cells": [
  {
   "cell_type": "markdown",
   "id": "2584349c",
   "metadata": {},
   "source": [
    "## Testing the API\n",
    "\n",
    "--------------"
   ]
  },
  {
   "cell_type": "code",
   "execution_count": null,
   "id": "e7b20a38",
   "metadata": {},
   "outputs": [],
   "source": []
  },
  {
   "cell_type": "code",
   "execution_count": null,
   "id": "33e77fa2",
   "metadata": {},
   "outputs": [],
   "source": [
    "# Testing the API\n",
    "\n",
    "import os\n",
    "import dotenv\n",
    "dotenv.load_dotenv()\n",
    "\n",
    "from openai import OpenAI    \n",
    "client = OpenAI(\n",
    "    base_url=\"https://api.aimlapi.com/v1\",\n",
    "    api_key=os.getenv(\"AI_ML_API_KEY\"),\n",
    ")\n",
    "\n",
    "response = client.chat.completions.create(\n",
    "    # model=\"openai/gpt-5-chat-latest\",\n",
    "    model = \"gpt-4o-mini\",\n",
    "    messages=[\n",
    "        {\n",
    "            \"role\": \"system\",\n",
    "            \"content\": \"You are an AI assistant who knows everything.\",\n",
    "        },\n",
    "        {\n",
    "            \"role\": \"user\",\n",
    "            \"content\": \"Tell me, why is the sky blue?\"\n",
    "        },\n",
    "    ],\n",
    "    max_tokens=50,\n",
    ")\n",
    "\n",
    "print(\"Response from AI: \", response.choices[0].message.content)\n",
    "\n"
   ]
  },
  {
   "cell_type": "code",
   "execution_count": null,
   "id": "310d1344",
   "metadata": {},
   "outputs": [],
   "source": []
  },
  {
   "cell_type": "code",
   "execution_count": null,
   "id": "fa65b96f",
   "metadata": {},
   "outputs": [],
   "source": []
  },
  {
   "cell_type": "code",
   "execution_count": 1,
   "id": "5f53512e",
   "metadata": {},
   "outputs": [],
   "source": [
    "import os, json\n",
    "import sounddevice as sd\n",
    "import soundfile as sf\n",
    "import numpy as np\n",
    "from openai import OpenAI\n",
    "from datetime import datetime"
   ]
  },
  {
   "cell_type": "code",
   "execution_count": null,
   "id": "57218243",
   "metadata": {},
   "outputs": [],
   "source": [
    "client = OpenAI(\n",
    "    base_url=\"https://api.aimlapi.com/v1\",\n",
    "    api_key=os.getenv(\"AI_ML_API_KEY\"),\n",
    ")\n"
   ]
  },
  {
   "cell_type": "code",
   "execution_count": null,
   "id": "1fa57ce4",
   "metadata": {},
   "outputs": [],
   "source": [
    "# Configuration\n",
    "SAMPLE_RATE = 16000\n",
    "DURATION = 5  # Maximum duration per recording in seconds"
   ]
  },
  {
   "cell_type": "code",
   "execution_count": null,
   "id": "a37b292a",
   "metadata": {},
   "outputs": [],
   "source": [
    "def get_onboarding_questions():\n",
    "    \n",
    "    \"\"\"Define the onboarding questions with categories\"\"\"\n",
    "\n",
    "    return [\n",
    "        {\n",
    "            \"category\": \"transportation\",\n",
    "            \"question\": \"Do you drive a car? If so, what type of car do you drive - Diesel, Petrol, Hybrid, or Electric?\",\n",
    "            \"follow_up\": \"How many miles or kilometers do you typically drive in a week?\"\n",
    "        },\n",
    "        {\n",
    "            \"category\": \"diet\", \n",
    "            \"question\": \"What type of diet do you follow? Are you vegetarian, non-vegetarian, vegan, or do you follow any other diet?\"\n",
    "        },\n",
    "        {\n",
    "            \"category\": \"home_energy\",\n",
    "            \"question\": \"What electronic devices do you use daily? Think about things like computers, TVs, kitchen appliances, etc.\"\n",
    "        },\n",
    "        {\n",
    "            \"category\": \"home_energy\",\n",
    "            \"question\": \"What type of home do you live in? Is it a house or an apartment, and how many people live with you?\"\n",
    "        },\n",
    "        {\n",
    "            \"category\": \"home_energy\", \n",
    "            \"question\": \"How do you heat your home in winter and cool it in summer?\"\n",
    "        },\n",
    "        {\n",
    "            \"category\": \"shopping\",\n",
    "            \"question\": \"How often do you shop for new clothes or electronics?\"\n",
    "        },\n",
    "        {\n",
    "            \"category\": \"travel\",\n",
    "            \"question\": \"How often do you travel by plane for vacations or work?\"\n",
    "        }\n",
    "    ]"
   ]
  },
  {
   "cell_type": "code",
   "execution_count": null,
   "id": "5f32e5cd",
   "metadata": {},
   "outputs": [],
   "source": [
    "def record_audio(prompt):\n",
    "    \"\"\"Record audio from the user's microphone - implementation depends on available libraries\"\"\"\n",
    "    print(f\"\\n🎤 {prompt}\")\n",
    "    print(\"Recording... (speak now)\")\n",
    "    \n",
    "    # Placeholder for audio recording logic\n",
    "    # This would use whatever audio library is available\n",
    "    audio_file = \"recorded_audio.wav\"\n",
    "    \n",
    "    return audio_file"
   ]
  },
  {
   "cell_type": "code",
   "execution_count": null,
   "id": "08b137f6",
   "metadata": {},
   "outputs": [],
   "source": [
    "def transcribe_audio(audio_file):\n",
    "    \"\"\"Transcribe audio using available speech-to-text model\"\"\"\n",
    "    # Placeholder for transcription logic\n",
    "    # This would use the available STT model\n",
    "    transcript = \"User's transcribed response would appear here\"\n",
    "    return transcript"
   ]
  },
  {
   "cell_type": "code",
   "execution_count": null,
   "id": "176da159",
   "metadata": {},
   "outputs": [],
   "source": [
    "def extract_key_information(text, category):\n",
    "    \"\"\"Use available LLM to extract structured information from the response\"\"\"\n",
    "    # Placeholder for LLM extraction logic\n",
    "    # This would use the available LLM client\n",
    "    \n",
    "    # Example structure of what the LLM would return\n",
    "    extracted_data = {\n",
    "        \"category\": category,\n",
    "        \"has_car\": True if category == \"transportation\" else None,\n",
    "        \"car_type\": \"Electric\" if category == \"transportation\" else None,\n",
    "        \"weekly_mileage\": 150 if category == \"transportation\" else None,\n",
    "        \"diet_type\": \"Vegetarian\" if category == \"diet\" else None,\n",
    "        \"electronic_devices\": [\"laptop\", \"phone\", \"TV\"] if category == \"home_energy\" else [],\n",
    "        \"home_type\": \"Apartment\" if category == \"home_energy\" else None,\n",
    "        \"household_size\": 2 if category == \"home_energy\" else None,\n",
    "        \"heating_cooling_method\": \"Central AC\" if category == \"home_energy\" else None,\n",
    "        \"shopping_frequency\": \"Monthly\" if category == \"shopping\" else None,\n",
    "        \"travel_frequency\": \"Rarely\" if category == \"travel\" else None\n",
    "    }\n",
    "    \n",
    "    return extracted_data"
   ]
  },
  {
   "cell_type": "code",
   "execution_count": null,
   "id": "3aea9797",
   "metadata": {},
   "outputs": [],
   "source": [
    "def save_user_profile(answers):\n",
    "    \"\"\"Save the user profile to a file\"\"\"\n",
    "    profile_data = {\n",
    "        \"created_at\": datetime.now().isoformat(),\n",
    "        \"profile\": answers\n",
    "    }\n",
    "    \n",
    "    with open(\"user_profile.json\", \"w\") as f:\n",
    "        json.dump(profile_data, f, indent=2)\n",
    "    \n",
    "    print(\"✓ Profile saved to user_profile.json\")\n",
    "    return profile_data"
   ]
  },
  {
   "cell_type": "code",
   "execution_count": null,
   "id": "4d033779",
   "metadata": {},
   "outputs": [],
   "source": [
    "def conduct_voice_interview():\n",
    "    \"\"\"Conduct the voice-based onboarding interview\"\"\"\n",
    "    print(\"🌱 Welcome to EcoAction AI!\")\n",
    "    print(\"I'll ask you a few questions about your lifestyle to create your personalized sustainability plan.\")\n",
    "    print(\"Please answer each question after the beep.\\n\")\n",
    "    \n",
    "    questions = get_onboarding_questions()\n",
    "    answers = {}\n",
    "    \n",
    "    for i, q in enumerate(questions):\n",
    "        # Record the user's response\n",
    "        audio_file = record_audio(f\"Q{i+1}/{len(questions)}: {q['question']}\")\n",
    "        \n",
    "        # Transcribe the audio\n",
    "        transcription = transcribe_audio(audio_file)\n",
    "        \n",
    "        if transcription:\n",
    "            print(f\"✓ You said: {transcription}\")\n",
    "            \n",
    "            # Extract structured information\n",
    "            extracted_info = extract_key_information(transcription, q[\"category\"])\n",
    "            \n",
    "            if extracted_info:\n",
    "                # Store the extracted information\n",
    "                answers[q[\"category\"]] = extracted_info\n",
    "                print(\"✓ Information saved successfully!\")\n",
    "            \n",
    "            # Ask follow-up question if exists\n",
    "            if \"follow_up\" in q:\n",
    "                audio_file_fu = record_audio(q[\"follow_up\"])\n",
    "                transcription_fu = transcribe_audio(audio_file_fu)\n",
    "                \n",
    "                if transcription_fu:\n",
    "                    print(f\"✓ Follow-up answer: {transcription_fu}\")\n",
    "        \n",
    "        print(\"-\" * 50)\n",
    "    \n",
    "    # Save the complete profile\n",
    "    profile_data = save_user_profile(answers)\n",
    "    \n",
    "    print(\"\\n🎉 Onboarding complete! Here's your profile:\")\n",
    "    print(json.dumps(answers, indent=2))\n",
    "    \n",
    "    return profile_data"
   ]
  },
  {
   "cell_type": "code",
   "execution_count": null,
   "id": "e51a561f",
   "metadata": {},
   "outputs": [],
   "source": []
  },
  {
   "cell_type": "code",
   "execution_count": null,
   "id": "600ede36",
   "metadata": {},
   "outputs": [],
   "source": []
  },
  {
   "cell_type": "code",
   "execution_count": null,
   "id": "a5932e73",
   "metadata": {},
   "outputs": [],
   "source": []
  },
  {
   "cell_type": "code",
   "execution_count": null,
   "id": "f70bd23b",
   "metadata": {},
   "outputs": [],
   "source": []
  },
  {
   "cell_type": "code",
   "execution_count": null,
   "id": "6feb06df",
   "metadata": {},
   "outputs": [],
   "source": []
  },
  {
   "cell_type": "code",
   "execution_count": null,
   "id": "3764e033",
   "metadata": {},
   "outputs": [],
   "source": []
  }
 ],
 "metadata": {
  "kernelspec": {
   "display_name": "ecoaction_ai",
   "language": "python",
   "name": "python3"
  },
  "language_info": {
   "codemirror_mode": {
    "name": "ipython",
    "version": 3
   },
   "file_extension": ".py",
   "mimetype": "text/x-python",
   "name": "python",
   "nbconvert_exporter": "python",
   "pygments_lexer": "ipython3",
   "version": "3.10.17"
  }
 },
 "nbformat": 4,
 "nbformat_minor": 5
}
